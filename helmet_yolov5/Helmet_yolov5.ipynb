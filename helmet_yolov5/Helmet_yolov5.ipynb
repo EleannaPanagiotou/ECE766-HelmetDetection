{
 "cells": [
  {
   "cell_type": "code",
   "execution_count": 1,
   "metadata": {},
   "outputs": [],
   "source": [
    "from pathlib import Path\n",
    "import xml.etree.ElementTree as ET\n",
    "from shutil import copyfile\n",
    "import os\n",
    "import numpy as np\n",
    "from tqdm import tqdm\n",
    "from sklearn.model_selection import train_test_split"
   ]
  },
  {
   "cell_type": "markdown",
   "metadata": {},
   "source": [
    "## Installing Ultralytics Package"
   ]
  },
  {
   "cell_type": "code",
   "execution_count": null,
   "metadata": {},
   "outputs": [],
   "source": [
    "!git clone https://github.com/ultralytics/ultralytics\n",
    "!pip install ultralytics"
   ]
  },
  {
   "cell_type": "markdown",
   "metadata": {},
   "source": [
    "## YOLOv5"
   ]
  },
  {
   "cell_type": "code",
   "execution_count": 3,
   "metadata": {},
   "outputs": [],
   "source": [
    "import yaml\n",
    "\n",
    "# Create configuration\n",
    "config = {\n",
    "\n",
    "   \"train\": \"/home/lefki/ECE766/helmet_yolov5/datasets/images/train\",\n",
    "   \"val\": \"/home/lefki/ECE766/helmet_yolov5/datasets/images/val\",\n",
    "   \"test\": \"/home/lefki/ECE766/helmet_yolov5/datasets/images/test\",\n",
    "   \"nc\": 2,\n",
    "   \"names\": ['helmet','head']\n",
    "}\n",
    "with open(\"data.yaml\", \"w\") as file:\n",
    "   yaml.dump(config, file, default_flow_style=False)"
   ]
  },
  {
   "cell_type": "code",
   "execution_count": null,
   "metadata": {},
   "outputs": [],
   "source": [
    "!cat data.yaml"
   ]
  },
  {
   "cell_type": "code",
   "execution_count": null,
   "metadata": {},
   "outputs": [],
   "source": [
    "!git clone https://github.com/ultralytics/yolov5\n",
    "%pip install -r yolov5/requirements.txt"
   ]
  },
  {
   "cell_type": "code",
   "execution_count": null,
   "metadata": {},
   "outputs": [],
   "source": [
    "!python /home/lefki/ECE766/helmet_yolov5/yolov5/val.py --task test --data /home/lefki/ECE766/helmet_yolov5/data.yaml --weights /home/lefki/ECE766/helmet_yolov5/best.pt --iou 0.5"
   ]
  }
 ],
 "metadata": {
  "kernelspec": {
   "display_name": "cv_proj",
   "language": "python",
   "name": "python3"
  },
  "language_info": {
   "codemirror_mode": {
    "name": "ipython",
    "version": 3
   },
   "file_extension": ".py",
   "mimetype": "text/x-python",
   "name": "python",
   "nbconvert_exporter": "python",
   "pygments_lexer": "ipython3",
   "version": "3.12.1"
  }
 },
 "nbformat": 4,
 "nbformat_minor": 2
}
